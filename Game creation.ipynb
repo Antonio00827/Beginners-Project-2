{
 "cells": [
  {
   "cell_type": "code",
   "execution_count": null,
   "metadata": {},
   "outputs": [],
   "source": [
    "import random\n",
    "fruitlist = [\"peach\", \"banana\", \"mango\", \"papaya\", \"durian\", \"dragonfruit\", \"pomegranate\"]\n",
    "wantedfruit = []\n",
    "for i in range (5):\n",
    "    wantedfruit.append(fruitlist[random.randint(0,6)])\n",
    "while fruitmatches != 5:\n",
    "    fruits = input(\"Enter your five fruits out of the following: peach, banana, mango, papaya, durian, dragonfruit, pomegranate(Use a space to separate them)\")\n",
    "    fruitmatches = 0\n",
    "    for i in range (5):\n",
    "        if fruits.split(\" \")[0] == wantedfruit[i]:\n",
    "            print(fruits.split(\" \")[0], \"is correct\")\n",
    "            fruitmatches += 1\n",
    "        if fruits.split(\" \")[1] == wantedfruit[i]:\n",
    "            print(fruits.split(\" \")[1], \"is correct\")\n",
    "            fruitmatches += 1\n",
    "        if fruits.split(\" \")[2] == wantedfruit[i]:\n",
    "            print(fruits.split(\" \")[2], \"is correct\")\n",
    "            fruitmatches += 1\n",
    "        if fruits.split(\" \")[3] == wantedfruit[i]:\n",
    "            print(fruits.split(\" \")[3], \"is correct\")\n",
    "            fruitmatches += 1\n",
    "        if fruits.split(\" \")[4] == wantedfruit[i]:\n",
    "            print(fruits.split(\" \")[4], \"is correct\")\n",
    "            fruitmatches += 1   \n",
    "else:\n",
    "    print(\"You got the fruits correct.\")\n",
    "\n",
    "\n",
    "\n"
   ]
  },
  {
   "cell_type": "code",
   "execution_count": null,
   "metadata": {},
   "outputs": [],
   "source": [
    "height = int(input(\"Enter your height in cm\"))\n",
    "if 160 <= height <= 180:\n",
    "    print(\"lived\")\n",
    "else:\n",
    "    print(\"dead\")"
   ]
  },
  {
   "cell_type": "code",
   "execution_count": 2,
   "metadata": {},
   "outputs": [
    {
     "name": "stdout",
     "output_type": "stream",
     "text": [
      "x x x x \n",
      "x x x x \n",
      "x x x x \n",
      "x x x x \n",
      "x x x x \n",
      "x x x x \n",
      "x x x x \n",
      "x x x x \n",
      "x x x x \n",
      "x x x x \n",
      "x x x x \n",
      "x "
     ]
    },
    {
     "ename": "IndexError",
     "evalue": "list index out of range",
     "output_type": "error",
     "traceback": [
      "\u001b[1;31m---------------------------------------------------------------------------\u001b[0m",
      "\u001b[1;31mIndexError\u001b[0m                                Traceback (most recent call last)",
      "Cell \u001b[1;32mIn[2], line 11\u001b[0m\n\u001b[0;32m      9\u001b[0m pinmatch \u001b[38;5;241m=\u001b[39m \u001b[38;5;241m0\u001b[39m\n\u001b[0;32m     10\u001b[0m \u001b[38;5;28;01mfor\u001b[39;00m i \u001b[38;5;129;01min\u001b[39;00m \u001b[38;5;28mrange\u001b[39m (\u001b[38;5;241m4\u001b[39m):\n\u001b[1;32m---> 11\u001b[0m     \u001b[38;5;28;01mif\u001b[39;00m \u001b[43mnumber\u001b[49m\u001b[38;5;241;43m.\u001b[39;49m\u001b[43msplit\u001b[49m\u001b[43m(\u001b[49m\u001b[38;5;124;43m\"\u001b[39;49m\u001b[38;5;124;43m \u001b[39;49m\u001b[38;5;124;43m\"\u001b[39;49m\u001b[43m)\u001b[49m\u001b[43m[\u001b[49m\u001b[43mi\u001b[49m\u001b[43m]\u001b[49m \u001b[38;5;241m==\u001b[39m actualpin[i]:\n\u001b[0;32m     12\u001b[0m         \u001b[38;5;28mprint\u001b[39m(number\u001b[38;5;241m.\u001b[39msplit[i], end \u001b[38;5;241m=\u001b[39m \u001b[38;5;124m\"\u001b[39m\u001b[38;5;124m \u001b[39m\u001b[38;5;124m\"\u001b[39m)\n\u001b[0;32m     13\u001b[0m         pinmatch \u001b[38;5;241m+\u001b[39m\u001b[38;5;241m=\u001b[39m \u001b[38;5;241m1\u001b[39m\n",
      "\u001b[1;31mIndexError\u001b[0m: list index out of range"
     ]
    }
   ],
   "source": [
    "import random\n",
    "numberlist = [0, 1, 2, 3, 4, 5, 6, 7, 8, 9]\n",
    "actualpin = []\n",
    "pinmatch = 0\n",
    "for i in range (4):\n",
    "    actualpin.append(numberlist[random.randint(0,9)])\n",
    "while pinmatch != 4:\n",
    "    number = input(\"Enter 4 digits (separate using a space)\")\n",
    "    pinmatch = 0\n",
    "    for i in range (4):\n",
    "        if number.split(\" \")[i] == actualpin[i]:\n",
    "            print(number.split[i], end = \" \")\n",
    "            pinmatch += 1\n",
    "        else:\n",
    "            print(\"x\", end = \" \")\n",
    "    print(\"\")"
   ]
  }
 ],
 "metadata": {
  "kernelspec": {
   "display_name": "Python 3",
   "language": "python",
   "name": "python3"
  },
  "language_info": {
   "codemirror_mode": {
    "name": "ipython",
    "version": 3
   },
   "file_extension": ".py",
   "mimetype": "text/x-python",
   "name": "python",
   "nbconvert_exporter": "python",
   "pygments_lexer": "ipython3",
   "version": "3.11.9"
  }
 },
 "nbformat": 4,
 "nbformat_minor": 2
}
